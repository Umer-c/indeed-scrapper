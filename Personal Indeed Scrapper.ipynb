{
 "cells": [
  {
   "cell_type": "code",
   "execution_count": 1,
   "id": "5dc8bce4",
   "metadata": {},
   "outputs": [],
   "source": [
    "from bs4 import BeautifulSoup\n",
    "import requests\n",
    "from datetime import datetime"
   ]
  },
  {
   "cell_type": "code",
   "execution_count": 2,
   "id": "217f40a9",
   "metadata": {},
   "outputs": [],
   "source": [
    "def get_url(position, location):\n",
    "        template = 'https://www.indeed.com/jobs?q={}&l={}'\n",
    "        url = template.format(position, location)\n",
    "        return url"
   ]
  },
  {
   "cell_type": "code",
   "execution_count": 3,
   "id": "b702670d",
   "metadata": {},
   "outputs": [],
   "source": [
    "url = get_url(\"data science\", \"la\")"
   ]
  },
  {
   "cell_type": "code",
   "execution_count": 5,
   "id": "3052dae1",
   "metadata": {},
   "outputs": [
    {
     "data": {
      "text/plain": [
       "<Response [200]>"
      ]
     },
     "execution_count": 5,
     "metadata": {},
     "output_type": "execute_result"
    }
   ],
   "source": [
    "response = requests.get(url)\n",
    "response"
   ]
  },
  {
   "cell_type": "code",
   "execution_count": 6,
   "id": "c13a5593",
   "metadata": {},
   "outputs": [
    {
     "data": {
      "text/plain": [
       "15"
      ]
     },
     "execution_count": 6,
     "metadata": {},
     "output_type": "execute_result"
    }
   ],
   "source": [
    "soup = BeautifulSoup(response.text, 'html.parser')\n",
    "cards = soup.find_all('div', 'job_seen_beacon')\n",
    "len(cards)"
   ]
  },
  {
   "cell_type": "code",
   "execution_count": 7,
   "id": "e132a1c7",
   "metadata": {},
   "outputs": [],
   "source": [
    "card = cards[1]"
   ]
  },
  {
   "cell_type": "code",
   "execution_count": 9,
   "id": "f875c855",
   "metadata": {},
   "outputs": [
    {
     "data": {
      "text/plain": [
       "<a aria-label=\"full details of Senior Data Analyst\" class=\"jcs-JobTitle\" data-hide-spinner=\"true\" data-hiring-event=\"false\" data-jk=\"dbbb13fd3da9d479\" data-mobtk=\"1g34drf4dt55o800\" href=\"/rc/clk?jk=dbbb13fd3da9d479&amp;fccid=bf75a171be6c8638&amp;vjs=3\" id=\"job_dbbb13fd3da9d479\" role=\"button\" target=\"_blank\"><span title=\"Senior Data Analyst\">Senior Data Analyst</span></a>"
      ]
     },
     "execution_count": 9,
     "metadata": {},
     "output_type": "execute_result"
    }
   ],
   "source": [
    "atag = card.h2.a\n",
    "atag"
   ]
  },
  {
   "cell_type": "code",
   "execution_count": 10,
   "id": "21d98c08",
   "metadata": {},
   "outputs": [
    {
     "data": {
      "text/plain": [
       "'Senior Data Analyst'"
      ]
     },
     "execution_count": 10,
     "metadata": {},
     "output_type": "execute_result"
    }
   ],
   "source": [
    "job_title = atag.span.get(\"title\")\n",
    "job_title"
   ]
  },
  {
   "cell_type": "code",
   "execution_count": 11,
   "id": "789503da",
   "metadata": {},
   "outputs": [
    {
     "data": {
      "text/plain": [
       "'https://www.indeed.com/rc/clk?jk=dbbb13fd3da9d479&fccid=bf75a171be6c8638&vjs=3'"
      ]
     },
     "execution_count": 11,
     "metadata": {},
     "output_type": "execute_result"
    }
   ],
   "source": [
    "job_url = 'https://www.indeed.com' + atag.get(\"href\")\n",
    "job_url"
   ]
  },
  {
   "cell_type": "code",
   "execution_count": 12,
   "id": "b28b0afc",
   "metadata": {},
   "outputs": [
    {
     "data": {
      "text/plain": [
       "'Billion Dollar Boy'"
      ]
     },
     "execution_count": 12,
     "metadata": {},
     "output_type": "execute_result"
    }
   ],
   "source": [
    "company = card.find(\"span\", {\"class\": \"companyName\"}).text\n",
    "company"
   ]
  },
  {
   "cell_type": "code",
   "execution_count": 13,
   "id": "a1568eb4",
   "metadata": {},
   "outputs": [
    {
     "data": {
      "text/plain": [
       "'New Orleans, LA 70115 (Touro area)'"
      ]
     },
     "execution_count": 13,
     "metadata": {},
     "output_type": "execute_result"
    }
   ],
   "source": [
    "job_location = card.find(\"div\", {\"class\": \"companyLocation\"}).text\n",
    "job_location"
   ]
  },
  {
   "cell_type": "code",
   "execution_count": 14,
   "id": "cc9616be",
   "metadata": {},
   "outputs": [
    {
     "data": {
      "text/plain": [
       "'\\nAnalysing our own data to help drive strategic data driven decisions.\\nExperience with Google Sheets, SQL, experience with dashboard tools a bonus (we utilize…\\n'"
      ]
     },
     "execution_count": 14,
     "metadata": {},
     "output_type": "execute_result"
    }
   ],
   "source": [
    "job_summary = card.find(\"div\", \"job-snippet\").text\n",
    "job_summary"
   ]
  },
  {
   "cell_type": "code",
   "execution_count": 15,
   "id": "ebc839d0",
   "metadata": {},
   "outputs": [
    {
     "data": {
      "text/plain": [
       "'Posted17 days ago'"
      ]
     },
     "execution_count": 15,
     "metadata": {},
     "output_type": "execute_result"
    }
   ],
   "source": [
    "post_date = card.find(\"span\", \"date\").text\n",
    "post_date"
   ]
  },
  {
   "cell_type": "code",
   "execution_count": 16,
   "id": "c15e9bfc",
   "metadata": {},
   "outputs": [
    {
     "data": {
      "text/plain": [
       "'2022-05-15'"
      ]
     },
     "execution_count": 16,
     "metadata": {},
     "output_type": "execute_result"
    }
   ],
   "source": [
    "today = datetime.today().strftime(\"%Y-%m-%d\")\n",
    "today"
   ]
  },
  {
   "cell_type": "markdown",
   "id": "29710532",
   "metadata": {},
   "source": [
    "## Gettting to the next page"
   ]
  },
  {
   "cell_type": "code",
   "execution_count": 18,
   "id": "dd22d5ba",
   "metadata": {},
   "outputs": [
    {
     "data": {
      "text/plain": [
       "'/jobs?q=data+science&l=la&start=10'"
      ]
     },
     "execution_count": 18,
     "metadata": {},
     "output_type": "execute_result"
    }
   ],
   "source": [
    "page = soup.find(\"div\", \"pagination\")\n",
    "page.a.get(\"href\")"
   ]
  },
  {
   "cell_type": "code",
   "execution_count": 19,
   "id": "5410e3b1",
   "metadata": {},
   "outputs": [
    {
     "data": {
      "text/plain": [
       "'https://www.indeed.com/jobs?q=data+science&l=la&start=10'"
      ]
     },
     "execution_count": 19,
     "metadata": {},
     "output_type": "execute_result"
    }
   ],
   "source": [
    "url = 'https://www.indeed.com' + page.a.get(\"href\")\n",
    "url"
   ]
  },
  {
   "cell_type": "markdown",
   "id": "25acc5c8",
   "metadata": {},
   "source": [
    "## Putting all together"
   ]
  },
  {
   "cell_type": "code",
   "execution_count": 23,
   "id": "bfc5504e",
   "metadata": {},
   "outputs": [],
   "source": [
    "from bs4 import BeautifulSoup\n",
    "import requests\n",
    "from datetime import datetime\n",
    "import csv"
   ]
  },
  {
   "cell_type": "code",
   "execution_count": 24,
   "id": "9fb2d43f",
   "metadata": {},
   "outputs": [],
   "source": [
    "def get_url(position, location):\n",
    "        template = 'https://www.indeed.com/jobs?q={}&l={}'\n",
    "        url = template.format(position, location)\n",
    "        return url\n",
    "\n",
    "def get_record(card):\n",
    "    \n",
    "    job_title = atag.span.get(\"title\")\n",
    "    company = card.find(\"span\", {\"class\": \"companyName\"}).text\n",
    "    job_location = card.find(\"div\", {\"class\": \"companyLocation\"}).text\n",
    "    post_date = card.find(\"span\", \"date\").text\n",
    "    today = datetime.today().strftime(\"%Y-%m-%d\")\n",
    "    job_summary = card.find(\"div\", \"job-snippet\").text\n",
    "    job_url = 'https://www.indeed.com' + card.h2.a.get(\"href\")\n",
    "    \n",
    "    \"\"\"Below part is added to get the full job description\"\"\"\n",
    "    response1 = requests.get(job_url)    \n",
    "    soup1 = BeautifulSoup(response1.text, 'html.parser')\n",
    "\n",
    "    jd = soup1.find('div', 'jobsearch-JobComponent-description icl-u-xs-mt--md')\n",
    "    full_jd = jd.find(\"div\", \"jobsearch-jobDescriptionText\").text\n",
    "    \n",
    "    \n",
    "    record = (job_title, company, job_location, post_date, today, job_summary, job_url, full_jd)\n",
    "    return record\n",
    "\n",
    "def main(position, location):\n",
    "    records = []\n",
    "    url = get_url(position, location)\n",
    "    \n",
    "    for x in range(1):\n",
    "        response = requests.get(url)\n",
    "        soup = BeautifulSoup(response.text, 'html.parser')\n",
    "        cards = soup.find_all('div', 'job_seen_beacon')\n",
    "        \n",
    "    \n",
    "        for card in cards:\n",
    "            record = get_record(card)\n",
    "            records.append(record)\n",
    "    \n",
    "        try:\n",
    "            url = 'https://www.indeed.com' + page.a.get(\"href\")\n",
    "        except attributeError:\n",
    "            break\n",
    "    \n",
    "    with open('Scrapper_results.csv', 'w', newline='', encoding='utf-8') as f:\n",
    "        writer = csv.writer(f)\n",
    "        writer.writerow(['Job Title', 'Company', 'Location', 'Posting Date', 'Extract Date', 'Summary', 'Job Url', 'Job Description'])\n",
    "        writer.writerows(records)"
   ]
  },
  {
   "cell_type": "code",
   "execution_count": 25,
   "id": "7d0b699f",
   "metadata": {},
   "outputs": [],
   "source": [
    "main(\"data engineer\", \"la\")"
   ]
  },
  {
   "cell_type": "code",
   "execution_count": 26,
   "id": "eb8c128d",
   "metadata": {},
   "outputs": [
    {
     "data": {
      "text/html": [
       "<div>\n",
       "<style scoped>\n",
       "    .dataframe tbody tr th:only-of-type {\n",
       "        vertical-align: middle;\n",
       "    }\n",
       "\n",
       "    .dataframe tbody tr th {\n",
       "        vertical-align: top;\n",
       "    }\n",
       "\n",
       "    .dataframe thead th {\n",
       "        text-align: right;\n",
       "    }\n",
       "</style>\n",
       "<table border=\"1\" class=\"dataframe\">\n",
       "  <thead>\n",
       "    <tr style=\"text-align: right;\">\n",
       "      <th></th>\n",
       "      <th>Job Title</th>\n",
       "      <th>Company</th>\n",
       "      <th>Location</th>\n",
       "      <th>Posting Date</th>\n",
       "      <th>Extract Date</th>\n",
       "      <th>Summary</th>\n",
       "      <th>Job Url</th>\n",
       "      <th>Job Description</th>\n",
       "    </tr>\n",
       "  </thead>\n",
       "  <tbody>\n",
       "    <tr>\n",
       "      <th>0</th>\n",
       "      <td>Senior Data Analyst</td>\n",
       "      <td>Noodle</td>\n",
       "      <td>Remote in New Orleans, LA 70118+1 location</td>\n",
       "      <td>Posted30+ days ago</td>\n",
       "      <td>2022-05-15</td>\n",
       "      <td>\\nBuilding Tableau visualizations to make data...</td>\n",
       "      <td>https://www.indeed.com/rc/clk?jk=552e017fbbb4d...</td>\n",
       "      <td>\\n\\nData Analytics Engineer (Contract to Hire)...</td>\n",
       "    </tr>\n",
       "    <tr>\n",
       "      <th>1</th>\n",
       "      <td>Senior Data Analyst</td>\n",
       "      <td>Amazon Web Services, Inc.</td>\n",
       "      <td>Louisiana+2 locations</td>\n",
       "      <td>Posted30+ days ago</td>\n",
       "      <td>2022-05-15</td>\n",
       "      <td>\\nHands on experience working on large-scale d...</td>\n",
       "      <td>https://www.indeed.com/rc/clk?jk=fa378ed9974cf...</td>\n",
       "      <td>\\n\\nBachelor’s degree in Computer Science, Eng...</td>\n",
       "    </tr>\n",
       "    <tr>\n",
       "      <th>2</th>\n",
       "      <td>Senior Data Analyst</td>\n",
       "      <td>Tulane University</td>\n",
       "      <td>New Orleans, LA</td>\n",
       "      <td>Posted24 days ago</td>\n",
       "      <td>2022-05-15</td>\n",
       "      <td>\\nHighly proficient data analysis and data man...</td>\n",
       "      <td>https://www.indeed.com/rc/clk?jk=d35ca92e7e919...</td>\n",
       "      <td>The Data Engineer I is responsible for the ins...</td>\n",
       "    </tr>\n",
       "    <tr>\n",
       "      <th>3</th>\n",
       "      <td>Senior Data Analyst</td>\n",
       "      <td>IBM</td>\n",
       "      <td>Baton Rouge, LA 70801+3 locations</td>\n",
       "      <td>Posted16 days ago</td>\n",
       "      <td>2022-05-15</td>\n",
       "      <td>\\nYou analyze and organize the data needed and...</td>\n",
       "      <td>https://www.indeed.com/rc/clk?jk=745503c19eb59...</td>\n",
       "      <td>\\n\\n\\nIntroduction\\n At IBM, work is more than...</td>\n",
       "    </tr>\n",
       "    <tr>\n",
       "      <th>4</th>\n",
       "      <td>Senior Data Analyst</td>\n",
       "      <td>Pearson</td>\n",
       "      <td>Baton Rouge, LA 70806</td>\n",
       "      <td>Posted30+ days ago</td>\n",
       "      <td>2022-05-15</td>\n",
       "      <td>\\nDesign, code, unit test, and deploy data pro...</td>\n",
       "      <td>https://www.indeed.com/rc/clk?jk=6671e57881230...</td>\n",
       "      <td>Senior Data Engineer\\nThis is a Hybrid Role - ...</td>\n",
       "    </tr>\n",
       "    <tr>\n",
       "      <th>5</th>\n",
       "      <td>Senior Data Analyst</td>\n",
       "      <td>First Horizon Bank</td>\n",
       "      <td>Lafayette, LA 70501</td>\n",
       "      <td>Posted30+ days ago</td>\n",
       "      <td>2022-05-15</td>\n",
       "      <td>\\nWork closely with other data engineers, busi...</td>\n",
       "      <td>https://www.indeed.com/rc/clk?jk=654bef735e60e...</td>\n",
       "      <td>\\n\\n\\nYou will be responsible for aggregating ...</td>\n",
       "    </tr>\n",
       "    <tr>\n",
       "      <th>6</th>\n",
       "      <td>Senior Data Analyst</td>\n",
       "      <td>Blue Cross Blue Shield of Louisiana</td>\n",
       "      <td>Baton Rouge, LA 70806+1 location</td>\n",
       "      <td>Posted12 days ago</td>\n",
       "      <td>2022-05-15</td>\n",
       "      <td>\\nCompletion of a data engineer or relevant in...</td>\n",
       "      <td>https://www.indeed.com/rc/clk?jk=8143dc33b65a4...</td>\n",
       "      <td>We take great strides to ensure our employees ...</td>\n",
       "    </tr>\n",
       "    <tr>\n",
       "      <th>7</th>\n",
       "      <td>Senior Data Analyst</td>\n",
       "      <td>Deloitte</td>\n",
       "      <td>New Orleans, LA 70139 (Central Business Distri...</td>\n",
       "      <td>Posted3 days ago</td>\n",
       "      <td>2022-05-15</td>\n",
       "      <td>\\nCollaborate with fellow engineers, engineeri...</td>\n",
       "      <td>https://www.indeed.com/rc/clk?jk=5ac34f486a9ce...</td>\n",
       "      <td>\\n\\n  Are you an experienced, passionate pione...</td>\n",
       "    </tr>\n",
       "    <tr>\n",
       "      <th>8</th>\n",
       "      <td>Senior Data Analyst</td>\n",
       "      <td>Lucid</td>\n",
       "      <td>Remote in New Orleans, LA</td>\n",
       "      <td>Posted30+ days ago</td>\n",
       "      <td>2022-05-15</td>\n",
       "      <td>\\nSupport the business teams and product manag...</td>\n",
       "      <td>https://www.indeed.com/rc/clk?jk=4640c25ec175d...</td>\n",
       "      <td>\\n\\n\\n\\n    Lucid (a Cint Group company) is a ...</td>\n",
       "    </tr>\n",
       "    <tr>\n",
       "      <th>9</th>\n",
       "      <td>Senior Data Analyst</td>\n",
       "      <td>Avanade</td>\n",
       "      <td>New Orleans, LA</td>\n",
       "      <td>Posted5 days ago</td>\n",
       "      <td>2022-05-15</td>\n",
       "      <td>\\nUse your knowledge to plan and deliver data ...</td>\n",
       "      <td>https://www.indeed.com/rc/clk?jk=ac7b0edc999ef...</td>\n",
       "      <td>\\n About Avanade’s Data Engineering academy \\n...</td>\n",
       "    </tr>\n",
       "    <tr>\n",
       "      <th>10</th>\n",
       "      <td>Senior Data Analyst</td>\n",
       "      <td>Change Healthcare</td>\n",
       "      <td>Louisiana+6 locations</td>\n",
       "      <td>Posted30+ days ago</td>\n",
       "      <td>2022-05-15</td>\n",
       "      <td>\\nWork with team members including data analys...</td>\n",
       "      <td>https://www.indeed.com/rc/clk?jk=f4244f7911ca4...</td>\n",
       "      <td>\\n\\nData Engineer\\n\\n Position Overview:\\n The...</td>\n",
       "    </tr>\n",
       "    <tr>\n",
       "      <th>11</th>\n",
       "      <td>Senior Data Analyst</td>\n",
       "      <td>Deloitte</td>\n",
       "      <td>New Orleans, LA 70139 (Central Business Distri...</td>\n",
       "      <td>Posted30+ days ago</td>\n",
       "      <td>2022-05-15</td>\n",
       "      <td>\\nImplement large-scale data ecosystems includ...</td>\n",
       "      <td>https://www.indeed.com/rc/clk?jk=dab005bcd3101...</td>\n",
       "      <td>\\n\\n  Are you an experienced, passionate pione...</td>\n",
       "    </tr>\n",
       "    <tr>\n",
       "      <th>12</th>\n",
       "      <td>Senior Data Analyst</td>\n",
       "      <td>Baker Hughes</td>\n",
       "      <td>New Orleans, LA 70170 (Central Business Distri...</td>\n",
       "      <td>Posted16 days ago</td>\n",
       "      <td>2022-05-15</td>\n",
       "      <td>\\nHelping define data engineering standards an...</td>\n",
       "      <td>https://www.indeed.com/rc/clk?jk=f3b7aaaf0712d...</td>\n",
       "      <td>At Baker Hughes, we are building a Talent Comm...</td>\n",
       "    </tr>\n",
       "    <tr>\n",
       "      <th>13</th>\n",
       "      <td>Senior Data Analyst</td>\n",
       "      <td>SETPOINT INTEGRATED</td>\n",
       "      <td>Baton Rouge, LA 70809 (Kleinpeter area)</td>\n",
       "      <td>Posted30+ days ago</td>\n",
       "      <td>2022-05-15</td>\n",
       "      <td>\\nEnsure data quality amongst various data sys...</td>\n",
       "      <td>https://www.indeed.com/rc/clk?jk=b9802fdeec0a3...</td>\n",
       "      <td>\\n\\nJob Summary:\\n We are seeking a Data Syste...</td>\n",
       "    </tr>\n",
       "    <tr>\n",
       "      <th>14</th>\n",
       "      <td>Senior Data Analyst</td>\n",
       "      <td>S&amp;P Global</td>\n",
       "      <td>Remote in Baton Rouge, LA 70801</td>\n",
       "      <td>Posted30+ days ago</td>\n",
       "      <td>2022-05-15</td>\n",
       "      <td>\\nThe role gives opportunity to be part of an ...</td>\n",
       "      <td>https://www.indeed.com/rc/clk?jk=5815917ae4080...</td>\n",
       "      <td>\\nThe Role: Sr. Distributed Systems Engineer \\...</td>\n",
       "    </tr>\n",
       "  </tbody>\n",
       "</table>\n",
       "</div>"
      ],
      "text/plain": [
       "              Job Title                              Company  \\\n",
       "0   Senior Data Analyst                               Noodle   \n",
       "1   Senior Data Analyst            Amazon Web Services, Inc.   \n",
       "2   Senior Data Analyst                    Tulane University   \n",
       "3   Senior Data Analyst                                  IBM   \n",
       "4   Senior Data Analyst                              Pearson   \n",
       "5   Senior Data Analyst                   First Horizon Bank   \n",
       "6   Senior Data Analyst  Blue Cross Blue Shield of Louisiana   \n",
       "7   Senior Data Analyst                             Deloitte   \n",
       "8   Senior Data Analyst                                Lucid   \n",
       "9   Senior Data Analyst                              Avanade   \n",
       "10  Senior Data Analyst                    Change Healthcare   \n",
       "11  Senior Data Analyst                             Deloitte   \n",
       "12  Senior Data Analyst                         Baker Hughes   \n",
       "13  Senior Data Analyst                  SETPOINT INTEGRATED   \n",
       "14  Senior Data Analyst                           S&P Global   \n",
       "\n",
       "                                             Location        Posting Date  \\\n",
       "0          Remote in New Orleans, LA 70118+1 location  Posted30+ days ago   \n",
       "1                               Louisiana+2 locations  Posted30+ days ago   \n",
       "2                                     New Orleans, LA   Posted24 days ago   \n",
       "3                   Baton Rouge, LA 70801+3 locations   Posted16 days ago   \n",
       "4                               Baton Rouge, LA 70806  Posted30+ days ago   \n",
       "5                                 Lafayette, LA 70501  Posted30+ days ago   \n",
       "6                    Baton Rouge, LA 70806+1 location   Posted12 days ago   \n",
       "7   New Orleans, LA 70139 (Central Business Distri...    Posted3 days ago   \n",
       "8                           Remote in New Orleans, LA  Posted30+ days ago   \n",
       "9                                     New Orleans, LA    Posted5 days ago   \n",
       "10                              Louisiana+6 locations  Posted30+ days ago   \n",
       "11  New Orleans, LA 70139 (Central Business Distri...  Posted30+ days ago   \n",
       "12  New Orleans, LA 70170 (Central Business Distri...   Posted16 days ago   \n",
       "13            Baton Rouge, LA 70809 (Kleinpeter area)  Posted30+ days ago   \n",
       "14                    Remote in Baton Rouge, LA 70801  Posted30+ days ago   \n",
       "\n",
       "   Extract Date                                            Summary  \\\n",
       "0    2022-05-15  \\nBuilding Tableau visualizations to make data...   \n",
       "1    2022-05-15  \\nHands on experience working on large-scale d...   \n",
       "2    2022-05-15  \\nHighly proficient data analysis and data man...   \n",
       "3    2022-05-15  \\nYou analyze and organize the data needed and...   \n",
       "4    2022-05-15  \\nDesign, code, unit test, and deploy data pro...   \n",
       "5    2022-05-15  \\nWork closely with other data engineers, busi...   \n",
       "6    2022-05-15  \\nCompletion of a data engineer or relevant in...   \n",
       "7    2022-05-15  \\nCollaborate with fellow engineers, engineeri...   \n",
       "8    2022-05-15  \\nSupport the business teams and product manag...   \n",
       "9    2022-05-15  \\nUse your knowledge to plan and deliver data ...   \n",
       "10   2022-05-15  \\nWork with team members including data analys...   \n",
       "11   2022-05-15  \\nImplement large-scale data ecosystems includ...   \n",
       "12   2022-05-15  \\nHelping define data engineering standards an...   \n",
       "13   2022-05-15  \\nEnsure data quality amongst various data sys...   \n",
       "14   2022-05-15  \\nThe role gives opportunity to be part of an ...   \n",
       "\n",
       "                                              Job Url  \\\n",
       "0   https://www.indeed.com/rc/clk?jk=552e017fbbb4d...   \n",
       "1   https://www.indeed.com/rc/clk?jk=fa378ed9974cf...   \n",
       "2   https://www.indeed.com/rc/clk?jk=d35ca92e7e919...   \n",
       "3   https://www.indeed.com/rc/clk?jk=745503c19eb59...   \n",
       "4   https://www.indeed.com/rc/clk?jk=6671e57881230...   \n",
       "5   https://www.indeed.com/rc/clk?jk=654bef735e60e...   \n",
       "6   https://www.indeed.com/rc/clk?jk=8143dc33b65a4...   \n",
       "7   https://www.indeed.com/rc/clk?jk=5ac34f486a9ce...   \n",
       "8   https://www.indeed.com/rc/clk?jk=4640c25ec175d...   \n",
       "9   https://www.indeed.com/rc/clk?jk=ac7b0edc999ef...   \n",
       "10  https://www.indeed.com/rc/clk?jk=f4244f7911ca4...   \n",
       "11  https://www.indeed.com/rc/clk?jk=dab005bcd3101...   \n",
       "12  https://www.indeed.com/rc/clk?jk=f3b7aaaf0712d...   \n",
       "13  https://www.indeed.com/rc/clk?jk=b9802fdeec0a3...   \n",
       "14  https://www.indeed.com/rc/clk?jk=5815917ae4080...   \n",
       "\n",
       "                                      Job Description  \n",
       "0   \\n\\nData Analytics Engineer (Contract to Hire)...  \n",
       "1   \\n\\nBachelor’s degree in Computer Science, Eng...  \n",
       "2   The Data Engineer I is responsible for the ins...  \n",
       "3   \\n\\n\\nIntroduction\\n At IBM, work is more than...  \n",
       "4   Senior Data Engineer\\nThis is a Hybrid Role - ...  \n",
       "5   \\n\\n\\nYou will be responsible for aggregating ...  \n",
       "6   We take great strides to ensure our employees ...  \n",
       "7   \\n\\n  Are you an experienced, passionate pione...  \n",
       "8   \\n\\n\\n\\n    Lucid (a Cint Group company) is a ...  \n",
       "9   \\n About Avanade’s Data Engineering academy \\n...  \n",
       "10  \\n\\nData Engineer\\n\\n Position Overview:\\n The...  \n",
       "11  \\n\\n  Are you an experienced, passionate pione...  \n",
       "12  At Baker Hughes, we are building a Talent Comm...  \n",
       "13  \\n\\nJob Summary:\\n We are seeking a Data Syste...  \n",
       "14  \\nThe Role: Sr. Distributed Systems Engineer \\...  "
      ]
     },
     "execution_count": 26,
     "metadata": {},
     "output_type": "execute_result"
    }
   ],
   "source": [
    "import pandas as pd\n",
    "\n",
    "df = pd.read_csv(\"Scrapper_results.csv\")\n",
    "df"
   ]
  },
  {
   "cell_type": "code",
   "execution_count": null,
   "id": "a6784440",
   "metadata": {},
   "outputs": [],
   "source": []
  }
 ],
 "metadata": {
  "kernelspec": {
   "display_name": "Python 3 (ipykernel)",
   "language": "python",
   "name": "python3"
  },
  "language_info": {
   "codemirror_mode": {
    "name": "ipython",
    "version": 3
   },
   "file_extension": ".py",
   "mimetype": "text/x-python",
   "name": "python",
   "nbconvert_exporter": "python",
   "pygments_lexer": "ipython3",
   "version": "3.8.12"
  }
 },
 "nbformat": 4,
 "nbformat_minor": 5
}
